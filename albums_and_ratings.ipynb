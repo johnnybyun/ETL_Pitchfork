{
 "cells": [
  {
   "cell_type": "code",
   "execution_count": 1,
   "metadata": {},
   "outputs": [],
   "source": [
    "import sqlite3\n",
    "import pandas as pd"
   ]
  },
  {
   "cell_type": "code",
   "execution_count": 2,
   "metadata": {},
   "outputs": [],
   "source": [
    "# Create a SQL connection to our SQLite database\n",
    "con = sqlite3.connect(\"Resources/database.sqlite\")\n",
    "cur = con.cursor()"
   ]
  },
  {
   "cell_type": "code",
   "execution_count": 3,
   "metadata": {},
   "outputs": [
    {
     "name": "stdout",
     "output_type": "stream",
     "text": [
      "   reviewid                 title            artist  \\\n",
      "0     22703             mezzanine    massive attack   \n",
      "1     22721          prelapsarian          krallice   \n",
      "2     22659  all of them naturals      uranium club   \n",
      "3     22661           first songs  kleenex, liliput   \n",
      "4     22725             new start              taso   \n",
      "\n",
      "                                                 url  score          author  \\\n",
      "0  http://pitchfork.com/reviews/albums/22703-mezz...    9.3     nate patrin   \n",
      "1  http://pitchfork.com/reviews/albums/22721-prel...    7.9        zoe camp   \n",
      "2  http://pitchfork.com/reviews/albums/22659-all-...    7.3  david glickman   \n",
      "3  http://pitchfork.com/reviews/albums/22661-firs...    9.0      jenn pelly   \n",
      "4  http://pitchfork.com/reviews/albums/22725-new-...    8.1    kevin lozano   \n",
      "\n",
      "     pub_date       genre  \n",
      "0  2017-01-08  electronic  \n",
      "1  2017-01-07       metal  \n",
      "2  2017-01-07        rock  \n",
      "3  2017-01-06        rock  \n",
      "4  2017-01-06  electronic  \n"
     ]
    }
   ],
   "source": [
    "# Get selected fields from pitchfork reviews and genres tables\n",
    "reviews_df = pd.read_sql_query(\"SELECT r.reviewid, r.title, r.artist, r.url, r.score, r.author, r.pub_date, g.genre \\\n",
    "from reviews r JOIN genres g WHERE r.reviewid = g.reviewid\", con)\n",
    "# Verify that result of SQL query is stored in the dataframe\n",
    "print(reviews_df.head())"
   ]
  },
  {
   "cell_type": "code",
   "execution_count": 4,
   "metadata": {},
   "outputs": [],
   "source": [
    "# Be sure to close the connection\n",
    "con.close()"
   ]
  },
  {
   "cell_type": "code",
   "execution_count": null,
   "metadata": {},
   "outputs": [],
   "source": []
  }
 ],
 "metadata": {
  "kernelspec": {
   "display_name": "Python 3",
   "language": "python",
   "name": "python3"
  },
  "language_info": {
   "codemirror_mode": {
    "name": "ipython",
    "version": 3
   },
   "file_extension": ".py",
   "mimetype": "text/x-python",
   "name": "python",
   "nbconvert_exporter": "python",
   "pygments_lexer": "ipython3",
   "version": "3.7.5"
  }
 },
 "nbformat": 4,
 "nbformat_minor": 2
}
